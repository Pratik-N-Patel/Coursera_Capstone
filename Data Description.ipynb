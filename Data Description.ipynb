{
    "nbformat_minor": 2, 
    "cells": [
        {
            "source": "# Capstone Project - The Battle of Neighborhoods\n\n## Research Neighborhood for Business/Travel\n\n### INTRODUCTION\nPeople research new places for various reasons. Some are into travel where as some people look for businesses. I present a list of top places in a city based on neighborhood to find solutions to people's research.\n\n### DATA\nIn order to accomplish this goal, latitudes and longitudes of Richmond, Virginia are used. The government website offers simple, accurate and up-to-date database all cities and their locations of the US. From this data, I will select  latitude and longitude values and will explore the venues around the city by utilizing Foursquare API.\n\nI will use the acquired location data to explore the nearby venues from the Foursquare API. Using the \"explore\" option, I will look for top 10 venues in 10 km radius for each city center and I get \"Venue\", \"Venue Latitude\", \"Venue Longitude\" and \"Venue Category\" columns.\n\n### METHODOLOGY\n\nAfter pivoting and groping the data at hand, we get a new version of the data which includes unique categories as columns. The cells contain the numbers of corresponding categories in the city. Utilizing this data, I will apply DBSCAN from sklearn library which runs DBSCAN clustering from vector array or distance matrix. After the tuning of the parameters of the model the result contains 3 different clusters.", 
            "cell_type": "markdown", 
            "metadata": {}
        }, 
        {
            "source": "", 
            "cell_type": "code", 
            "metadata": {}, 
            "outputs": [], 
            "execution_count": null
        }
    ], 
    "metadata": {
        "kernelspec": {
            "display_name": "Python 3.6", 
            "name": "python3", 
            "language": "python"
        }, 
        "language_info": {
            "mimetype": "text/x-python", 
            "nbconvert_exporter": "python", 
            "version": "3.6.8", 
            "name": "python", 
            "pygments_lexer": "ipython3", 
            "file_extension": ".py", 
            "codemirror_mode": {
                "version": 3, 
                "name": "ipython"
            }
        }
    }, 
    "nbformat": 4
}