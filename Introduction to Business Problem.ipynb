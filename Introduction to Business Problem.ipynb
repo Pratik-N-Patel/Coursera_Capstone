{
    "nbformat_minor": 2, 
    "cells": [
        {
            "source": "# Capstone Project - The Battle of Neighborhoods\n\n## Research Neighborhood for Business/Travel\n\n### INTRODUCTION\nPeople research new places for various reasons. Some are into travel whereas some people look for businesses. I present a list of top places in a Richmond, Virginia based on neighborhood to find solutions to people's research.", 
            "cell_type": "markdown", 
            "metadata": {}
        }, 
        {
            "source": "", 
            "cell_type": "code", 
            "metadata": {}, 
            "outputs": [], 
            "execution_count": null
        }
    ], 
    "metadata": {
        "kernelspec": {
            "display_name": "Python 3.6", 
            "name": "python3", 
            "language": "python"
        }, 
        "language_info": {
            "mimetype": "text/x-python", 
            "nbconvert_exporter": "python", 
            "version": "3.6.8", 
            "name": "python", 
            "pygments_lexer": "ipython3", 
            "file_extension": ".py", 
            "codemirror_mode": {
                "version": 3, 
                "name": "ipython"
            }
        }
    }, 
    "nbformat": 4
}